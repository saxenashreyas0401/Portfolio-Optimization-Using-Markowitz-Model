{
 "cells": [
  {
   "cell_type": "markdown",
   "id": "7dc48a42",
   "metadata": {
    "id": "7dc48a42"
   },
   "source": [
    "IMPORTING NECESSARY LIBRARIES"
   ]
  },
  {
   "cell_type": "code",
   "execution_count": 1,
   "id": "03810fee",
   "metadata": {
    "id": "03810fee"
   },
   "outputs": [
    {
     "name": "stderr",
     "output_type": "stream",
     "text": [
      "C:\\Users\\Shreyas\\anaconda3\\lib\\site-packages\\yfinance\\base.py:48: FutureWarning: The default dtype for empty Series will be 'object' instead of 'float64' in a future version. Specify a dtype explicitly to silence this warning.\n",
      "  _empty_series = pd.Series()\n"
     ]
    }
   ],
   "source": [
    "import numpy as np\n",
    "import pandas as pd\n",
    "import matplotlib.pyplot as plt\n",
    "import seaborn as sns\n",
    "import yfinance as yf\n",
    "import math\n",
    "sns.set_style(\"whitegrid\")"
   ]
  },
  {
   "cell_type": "code",
   "execution_count": 2,
   "id": "75ab9eb7",
   "metadata": {
    "colab": {
     "base_uri": "https://localhost:8080/",
     "height": 455
    },
    "id": "75ab9eb7",
    "outputId": "fbfc7d76-34bc-46c9-b3fd-c972c24de24f"
   },
   "outputs": [
    {
     "data": {
      "text/html": [
       "<div>\n",
       "<style scoped>\n",
       "    .dataframe tbody tr th:only-of-type {\n",
       "        vertical-align: middle;\n",
       "    }\n",
       "\n",
       "    .dataframe tbody tr th {\n",
       "        vertical-align: top;\n",
       "    }\n",
       "\n",
       "    .dataframe thead th {\n",
       "        text-align: right;\n",
       "    }\n",
       "</style>\n",
       "<table border=\"1\" class=\"dataframe\">\n",
       "  <thead>\n",
       "    <tr style=\"text-align: right;\">\n",
       "      <th></th>\n",
       "      <th>Close</th>\n",
       "    </tr>\n",
       "    <tr>\n",
       "      <th>Date</th>\n",
       "      <th></th>\n",
       "    </tr>\n",
       "  </thead>\n",
       "  <tbody>\n",
       "    <tr>\n",
       "      <th>2023-01-02</th>\n",
       "      <td>8821.799805</td>\n",
       "    </tr>\n",
       "    <tr>\n",
       "      <th>2023-01-03</th>\n",
       "      <td>8843.349609</td>\n",
       "    </tr>\n",
       "    <tr>\n",
       "      <th>2023-01-04</th>\n",
       "      <td>8745.700195</td>\n",
       "    </tr>\n",
       "    <tr>\n",
       "      <th>2023-01-05</th>\n",
       "      <td>8808.599609</td>\n",
       "    </tr>\n",
       "    <tr>\n",
       "      <th>2023-01-06</th>\n",
       "      <td>8752.299805</td>\n",
       "    </tr>\n",
       "    <tr>\n",
       "      <th>...</th>\n",
       "      <td>...</td>\n",
       "    </tr>\n",
       "    <tr>\n",
       "      <th>2023-12-22</th>\n",
       "      <td>12838.200195</td>\n",
       "    </tr>\n",
       "    <tr>\n",
       "      <th>2023-12-26</th>\n",
       "      <td>12905.599609</td>\n",
       "    </tr>\n",
       "    <tr>\n",
       "      <th>2023-12-27</th>\n",
       "      <td>12946.500000</td>\n",
       "    </tr>\n",
       "    <tr>\n",
       "      <th>2023-12-28</th>\n",
       "      <td>13066.250000</td>\n",
       "    </tr>\n",
       "    <tr>\n",
       "      <th>2023-12-29</th>\n",
       "      <td>13144.950195</td>\n",
       "    </tr>\n",
       "  </tbody>\n",
       "</table>\n",
       "<p>245 rows × 1 columns</p>\n",
       "</div>"
      ],
      "text/plain": [
       "                   Close\n",
       "Date                    \n",
       "2023-01-02   8821.799805\n",
       "2023-01-03   8843.349609\n",
       "2023-01-04   8745.700195\n",
       "2023-01-05   8808.599609\n",
       "2023-01-06   8752.299805\n",
       "...                  ...\n",
       "2023-12-22  12838.200195\n",
       "2023-12-26  12905.599609\n",
       "2023-12-27  12946.500000\n",
       "2023-12-28  13066.250000\n",
       "2023-12-29  13144.950195\n",
       "\n",
       "[245 rows x 1 columns]"
      ]
     },
     "execution_count": 2,
     "metadata": {},
     "output_type": "execute_result"
    }
   ],
   "source": [
    "st = '2023-01-01'\n",
    "ed = '2023-12-31'\n",
    "benchmarkdf = yf.download(tickers = \"^NSEMDCP50\", start = st, end  = ed, progress = False, period = '1d')\n",
    "benchmarkdf.drop(columns = [\"Open\",\"Low\",\"High\",\"Volume\",\"Adj Close\"], inplace = True)\n",
    "benchmarkdf"
   ]
  },
  {
   "cell_type": "code",
   "execution_count": 3,
   "id": "890lb4VUWGx8",
   "metadata": {
    "colab": {
     "base_uri": "https://localhost:8080/",
     "height": 455
    },
    "id": "890lb4VUWGx8",
    "outputId": "31dc166b-20e9-4deb-d945-7f0d3e4ed5ab"
   },
   "outputs": [
    {
     "data": {
      "text/html": [
       "<div>\n",
       "<style scoped>\n",
       "    .dataframe tbody tr th:only-of-type {\n",
       "        vertical-align: middle;\n",
       "    }\n",
       "\n",
       "    .dataframe tbody tr th {\n",
       "        vertical-align: top;\n",
       "    }\n",
       "\n",
       "    .dataframe thead th {\n",
       "        text-align: right;\n",
       "    }\n",
       "</style>\n",
       "<table border=\"1\" class=\"dataframe\">\n",
       "  <thead>\n",
       "    <tr style=\"text-align: right;\">\n",
       "      <th></th>\n",
       "      <th>Close</th>\n",
       "      <th>Portfolio Value</th>\n",
       "    </tr>\n",
       "    <tr>\n",
       "      <th>Date</th>\n",
       "      <th></th>\n",
       "      <th></th>\n",
       "    </tr>\n",
       "  </thead>\n",
       "  <tbody>\n",
       "    <tr>\n",
       "      <th>2023-01-02</th>\n",
       "      <td>8821.799805</td>\n",
       "      <td>100000.000000</td>\n",
       "    </tr>\n",
       "    <tr>\n",
       "      <th>2023-01-03</th>\n",
       "      <td>8843.349609</td>\n",
       "      <td>100244.279004</td>\n",
       "    </tr>\n",
       "    <tr>\n",
       "      <th>2023-01-04</th>\n",
       "      <td>8745.700195</td>\n",
       "      <td>99137.368666</td>\n",
       "    </tr>\n",
       "    <tr>\n",
       "      <th>2023-01-05</th>\n",
       "      <td>8808.599609</td>\n",
       "      <td>99850.368455</td>\n",
       "    </tr>\n",
       "    <tr>\n",
       "      <th>2023-01-06</th>\n",
       "      <td>8752.299805</td>\n",
       "      <td>99212.178903</td>\n",
       "    </tr>\n",
       "    <tr>\n",
       "      <th>...</th>\n",
       "      <td>...</td>\n",
       "      <td>...</td>\n",
       "    </tr>\n",
       "    <tr>\n",
       "      <th>2023-12-22</th>\n",
       "      <td>12838.200195</td>\n",
       "      <td>145528.128948</td>\n",
       "    </tr>\n",
       "    <tr>\n",
       "      <th>2023-12-26</th>\n",
       "      <td>12905.599609</td>\n",
       "      <td>146292.138737</td>\n",
       "    </tr>\n",
       "    <tr>\n",
       "      <th>2023-12-27</th>\n",
       "      <td>12946.500000</td>\n",
       "      <td>146755.767379</td>\n",
       "    </tr>\n",
       "    <tr>\n",
       "      <th>2023-12-28</th>\n",
       "      <td>13066.250000</td>\n",
       "      <td>148113.200132</td>\n",
       "    </tr>\n",
       "    <tr>\n",
       "      <th>2023-12-29</th>\n",
       "      <td>13144.950195</td>\n",
       "      <td>149005.310553</td>\n",
       "    </tr>\n",
       "  </tbody>\n",
       "</table>\n",
       "<p>245 rows × 2 columns</p>\n",
       "</div>"
      ],
      "text/plain": [
       "                   Close  Portfolio Value\n",
       "Date                                     \n",
       "2023-01-02   8821.799805    100000.000000\n",
       "2023-01-03   8843.349609    100244.279004\n",
       "2023-01-04   8745.700195     99137.368666\n",
       "2023-01-05   8808.599609     99850.368455\n",
       "2023-01-06   8752.299805     99212.178903\n",
       "...                  ...              ...\n",
       "2023-12-22  12838.200195    145528.128948\n",
       "2023-12-26  12905.599609    146292.138737\n",
       "2023-12-27  12946.500000    146755.767379\n",
       "2023-12-28  13066.250000    148113.200132\n",
       "2023-12-29  13144.950195    149005.310553\n",
       "\n",
       "[245 rows x 2 columns]"
      ]
     },
     "execution_count": 3,
     "metadata": {},
     "output_type": "execute_result"
    }
   ],
   "source": [
    "initial_investment = 100000\n",
    "shares_bought = initial_investment / benchmarkdf['Close'][0]\n",
    "\n",
    "benchmarkdf['Portfolio Value'] = benchmarkdf['Close']*shares_bought\n",
    "benchmarkdf"
   ]
  },
  {
   "cell_type": "code",
   "execution_count": 4,
   "id": "XCBH61M2XYr8",
   "metadata": {
    "colab": {
     "base_uri": "https://localhost:8080/"
    },
    "id": "XCBH61M2XYr8",
    "outputId": "f7fdd450-21f7-4ef5-b26c-d375400ec5e9"
   },
   "outputs": [
    {
     "name": "stdout",
     "output_type": "stream",
     "text": [
      "Benchmark Returns: 49.01 %\n",
      "0.12340268141198116\n",
      "0.4118875560455703\n",
      "Benchmark Sharpe Ratio: 2.77\n"
     ]
    }
   ],
   "source": [
    "final_portfolio_value = benchmarkdf['Portfolio Value'][-1]\n",
    "benchmark_returns = (final_portfolio_value - initial_investment)*100 / initial_investment\n",
    "print(\"Benchmark Returns:\", round(benchmark_returns,2),\"%\")\n",
    "\n",
    "s = benchmarkdf['Portfolio Value']\n",
    "s = np.log(s / s.shift(1))\n",
    "s = s[1:]\n",
    "sigma = (np.std(s)*math.sqrt(252))\n",
    "s = s.mean()*252\n",
    "print(sigma)\n",
    "ra = s\n",
    "print(ra)\n",
    "rb = 0.07\n",
    "benchmark_sr = ((ra-rb)/sigma) # Sharpe ratio\n",
    "print(\"Benchmark Sharpe Ratio:\", round(benchmark_sr,2))"
   ]
  },
  {
   "cell_type": "code",
   "execution_count": 5,
   "id": "scgMU_quX3k-",
   "metadata": {
    "colab": {
     "base_uri": "https://localhost:8080/",
     "height": 450
    },
    "id": "scgMU_quX3k-",
    "outputId": "6edd22d9-9658-4aa9-bf1a-c5b0e47cdb93"
   },
   "outputs": [
    {
     "data": {
      "text/plain": [
       "<AxesSubplot:xlabel='Date'>"
      ]
     },
     "execution_count": 5,
     "metadata": {},
     "output_type": "execute_result"
    },
    {
     "data": {
      "image/png": "[encoded data removed]",
      "text/plain": [
       "<Figure size 640x480 with 1 Axes>"
      ]
     },
     "metadata": {},
     "output_type": "display_data"
    }
   ],
   "source": [
    "benchmarkdf['Portfolio Value'].plot(kind='line')"
   ]
  },
  {
   "cell_type": "markdown",
   "id": "5fa25d29",
   "metadata": {
    "id": "5fa25d29"
   },
   "source": [
    "PULLING THE DATA AND FORMING A DATABASE"
   ]
  },
  {
   "cell_type": "code",
   "execution_count": 8,
   "id": "9530d1b9",
   "metadata": {
    "colab": {
     "base_uri": "https://localhost:8080/"
    },
    "id": "9530d1b9",
    "outputId": "648ff3e1-9198-4d12-d590-1573348a7103"
   },
   "outputs": [
    {
     "name": "stdout",
     "output_type": "stream",
     "text": [
      "yfinance.Ticker object <LUPIN.NS>\n",
      "yfinance.Ticker object <VOLTAS.NS>\n",
      "yfinance.Ticker object <NMDC.NS>\n",
      "Combo Returns: 74.36 %\n",
      "Combo Sharpe Ratio: 2.59\n",
      "\n",
      "yfinance.Ticker object <LUPIN.NS>\n",
      "yfinance.Ticker object <VOLTAS.NS>\n",
      "yfinance.Ticker object <ZYDUSLIFE.NS>\n",
      "Combo Returns: 69.81 %\n",
      "Combo Sharpe Ratio: 2.49\n",
      "\n",
      "yfinance.Ticker object <LUPIN.NS>\n",
      "yfinance.Ticker object <VOLTAS.NS>\n",
      "yfinance.Ticker object <SAIL.NS>\n",
      "Combo Returns: 68.15 %\n",
      "Combo Sharpe Ratio: 2.28\n",
      "\n",
      "yfinance.Ticker object <LUPIN.NS>\n",
      "yfinance.Ticker object <NMDC.NS>\n",
      "yfinance.Ticker object <ZYDUSLIFE.NS>\n",
      "Combo Returns: 74.15 %\n",
      "Combo Sharpe Ratio: 2.81\n",
      "\n",
      "yfinance.Ticker object <LUPIN.NS>\n",
      "yfinance.Ticker object <NMDC.NS>\n",
      "yfinance.Ticker object <SAIL.NS>\n",
      "Combo Returns: 79.19 %\n",
      "Combo Sharpe Ratio: 2.58\n",
      "\n",
      "yfinance.Ticker object <LUPIN.NS>\n",
      "yfinance.Ticker object <ZYDUSLIFE.NS>\n",
      "yfinance.Ticker object <SAIL.NS>\n",
      "Combo Returns: 70.6 %\n",
      "Combo Sharpe Ratio: 2.51\n",
      "\n",
      "yfinance.Ticker object <VOLTAS.NS>\n",
      "yfinance.Ticker object <NMDC.NS>\n",
      "yfinance.Ticker object <ZYDUSLIFE.NS>\n",
      "Combo Returns: 67.09 %\n",
      "Combo Sharpe Ratio: 2.55\n",
      "\n",
      "yfinance.Ticker object <VOLTAS.NS>\n",
      "yfinance.Ticker object <NMDC.NS>\n",
      "yfinance.Ticker object <SAIL.NS>\n",
      "Combo Returns: 63.64 %\n",
      "Combo Sharpe Ratio: 1.86\n",
      "\n",
      "yfinance.Ticker object <VOLTAS.NS>\n",
      "yfinance.Ticker object <ZYDUSLIFE.NS>\n",
      "yfinance.Ticker object <SAIL.NS>\n",
      "Combo Returns: 57.27 %\n",
      "Combo Sharpe Ratio: 2.1\n",
      "\n",
      "yfinance.Ticker object <NMDC.NS>\n",
      "yfinance.Ticker object <ZYDUSLIFE.NS>\n",
      "yfinance.Ticker object <SAIL.NS>\n",
      "Combo Returns: 69.63 %\n",
      "Combo Sharpe Ratio: 2.54\n",
      "\n"
     ]
    }
   ],
   "source": [
    "\n",
    "NUM_SIMULATIONS = 20000     \n",
    "NUM_TRADING_DAYS = 252\n",
    "\n",
    "stocks =[\"LUPIN.NS\", \"VOLTAS.NS\", \"NMDC.NS\", \"ZYDUSLIFE.NS\", \"SAIL.NS\"]\n",
    "\n",
    "from itertools import combinations\n",
    "numbers = range(len(stocks))\n",
    "\n",
    "combs = list(combinations(numbers, 3))             \n",
    "\n",
    "for comb in combs:\n",
    "  stocks_new = [stocks[i] for i in comb]\n",
    "  stock_data = {}\n",
    "  for stock in stocks_new:\n",
    "      ticker = yf.Ticker(stock) \n",
    "      print(ticker)\n",
    "      stock_data[stock] = ticker.history(start = st, end = ed)['Close']\n",
    "\n",
    "  stock_prices = pd.DataFrame(stock_data)\n",
    "\n",
    "  log_returns = np.log(stock_prices[1:]/stock_prices[1:].shift(1)) \n",
    "\n",
    "  portfolio_weights = []\n",
    "  portfolio_returns = []\n",
    "  portfolio_risks = []\n",
    "\n",
    "  for i in range(NUM_SIMULATIONS):\n",
    "    w = np.random.random(3)\n",
    "    w = w / np.sum(w)\n",
    "    portfolio_weights.append(w)\n",
    "    port_return = np.sum(log_returns.mean()*w)*NUM_TRADING_DAYS\n",
    "    portfolio_returns.append(port_return)\n",
    "    port_risk = np.sqrt(np.dot(w.T,np.dot(log_returns.cov()*NUM_TRADING_DAYS,w)))\n",
    "    portfolio_risks.append(port_risk)\n",
    "\n",
    "  risk_free_rate = 0.07\n",
    "  porfolio_weights = np.array(portfolio_weights)\n",
    "  portfolio_returns = np.array(portfolio_returns)\n",
    "  portfolio_risks = np.array(portfolio_risks)\n",
    "\n",
    "\n",
    "  sharpe_ratios  = (portfolio_returns - risk_free_rate)/portfolio_risks \n",
    "\n",
    "  portfolios = pd.DataFrame({\"Return\": portfolio_returns,\"Risk\": portfolio_risks,\"Sharpe\": sharpe_ratios })\n",
    "  ind = 0\n",
    "\n",
    "  for i in range(len(sharpe_ratios)):\n",
    "    if(sharpe_ratios[i] == np.amax(sharpe_ratios)):\n",
    "      ind = i\n",
    "\n",
    "  weights = portfolio_weights[ind]\n",
    "\n",
    "  shares = []\n",
    "  df = stock_prices.copy()\n",
    "  for i in range(len(stocks_new)):\n",
    "    shares_bought = (initial_investment * weights[i])/stock_prices[stocks_new[i]][0]\n",
    "    shares.append(shares_bought)\n",
    "  shares = np.array(shares)\n",
    "  df['Portfolio Value'] = np.zeros(len(stock_prices))\n",
    "  for i in range(len(stocks_new)):\n",
    "    df['Portfolio Value'] += shares[i] * stock_prices[stocks_new[i]]\n",
    "    \n",
    "  final_portfolio_value = df['Portfolio Value'][-1]\n",
    "\n",
    "  df_returns = (final_portfolio_value - initial_investment)*100 / initial_investment\n",
    "\n",
    "  print(\"Combo Returns:\", round(df_returns,2),\"%\")\n",
    "\n",
    "  df_sr = sharpe_ratios[ind]\n",
    "  print(\"Combo Sharpe Ratio:\", round(df_sr,2))\n",
    "  print()\n"
   ]
  }
 ],
 "metadata": {
  "colab": {
   "provenance": []
  },
  "kernelspec": {
   "display_name": "Python 3 (ipykernel)",
   "language": "python",
   "name": "python3"
  },
  "language_info": {
   "codemirror_mode": {
    "name": "ipython",
    "version": 3
   },
   "file_extension": ".py",
   "mimetype": "text/x-python",
   "name": "python",
   "nbconvert_exporter": "python",
   "pygments_lexer": "ipython3",
   "version": "3.9.13"
  }
 },
 "nbformat": 4,
 "nbformat_minor": 5
}
